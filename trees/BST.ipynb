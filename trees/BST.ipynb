{
 "cells": [
  {
   "cell_type": "markdown",
   "metadata": {},
   "source": [
    "Given an integer array nums where the elements are sorted in ascending order, convert it to a \n",
    "height-balanced binary search tree."
   ]
  },
  {
   "cell_type": "code",
   "execution_count": 11,
   "metadata": {},
   "outputs": [
    {
     "name": "stdout",
     "output_type": "stream",
     "text": [
      "[-10, -3, 0, 5, 9]\n",
      "2\n",
      "[-10, -3]\n",
      "0\n",
      "[]\n",
      "[-3]\n",
      "0\n",
      "[]\n",
      "[]\n",
      "[5, 9]\n",
      "0\n",
      "[]\n",
      "[9]\n",
      "0\n",
      "[]\n",
      "[]\n",
      "Preorder traversal of the BST:\n",
      "0 -10 -3 5 9 "
     ]
    }
   ],
   "source": [
    "class TreeNode:\n",
    "    def __init__(self, val=0, left=None, right=None):\n",
    "        self.val = val\n",
    "        self.left = left\n",
    "        self.right = right\n",
    "\n",
    "class Solution(object):\n",
    "    def sortedArrayToBST(self, nums):\n",
    "        print(nums)\n",
    "        \n",
    "        if not nums:\n",
    "            return None\n",
    "        \n",
    "        \n",
    "        center = (len(nums)-1)//2\n",
    "        print(center)\n",
    "        \n",
    "        root = TreeNode(nums[center])\n",
    "        \n",
    "        root.left = self.sortedArrayToBST(nums[0:center])\n",
    "        root.right = self.sortedArrayToBST(nums[center+1:len(nums)])\n",
    "        \n",
    "        return root\n"
   ]
  },
  {
   "cell_type": "code",
   "execution_count": null,
   "metadata": {},
   "outputs": [],
   "source": []
  }
 ],
 "metadata": {
  "kernelspec": {
   "display_name": "base",
   "language": "python",
   "name": "python3"
  },
  "language_info": {
   "codemirror_mode": {
    "name": "ipython",
    "version": 3
   },
   "file_extension": ".py",
   "mimetype": "text/x-python",
   "name": "python",
   "nbconvert_exporter": "python",
   "pygments_lexer": "ipython3",
   "version": "3.12.4"
  }
 },
 "nbformat": 4,
 "nbformat_minor": 2
}
