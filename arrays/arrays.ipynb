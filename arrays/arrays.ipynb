{
 "cells": [
  {
   "cell_type": "code",
   "execution_count": null,
   "metadata": {},
   "outputs": [],
   "source": [
    "Given an integer array nums, find the subarray with the largest sum, and return its sum."
   ]
  },
  {
   "cell_type": "code",
   "execution_count": null,
   "metadata": {},
   "outputs": [],
   "source": [
    "nums = [-2,1,-3,4,-1,2,1,-5,4]\n",
    "\n",
    "class Solution:\n",
    "    def maxSubArray(self, nums: List[int]) -> int:\n",
    "        max_sum = float(-inf)\n",
    "        curr_sum = 0\n",
    "\n",
    "\n",
    "        for n in nums:\n",
    "            curr_sum = curr_sum + n\n",
    "            \n",
    "            if curr_sum > max_sum :\n",
    "                max_sum = curr_sum\n",
    "                \n",
    "            if curr_sum < 0:\n",
    "                curr_sum = 0\n",
    "                \n",
    "                \n",
    "        return max_sum\n",
    "        "
   ]
  },
  {
   "cell_type": "markdown",
   "metadata": {},
   "source": [
    "Given an integer array nums sorted in non-decreasing order, remove the duplicates in-place such that each unique element appears only once. The relative order of the elements should be kept the same. Then return the number of unique elements in nums.\n",
    "\n",
    "Consider the number of unique elements of nums to be k, to get accepted, you need to do the following things:\n",
    "\n",
    "Change the array nums such that the first k elements of nums contain the unique elements in the order they were present in nums initially. The remaining elements of nums are not important as well as the size of nums.\n",
    "Return k.\n",
    "Custom Judge:\n",
    "\n"
   ]
  },
  {
   "cell_type": "code",
   "execution_count": 2,
   "metadata": {},
   "outputs": [
    {
     "name": "stdout",
     "output_type": "stream",
     "text": [
      "[0, 1, 2, 3, 4]\n"
     ]
    }
   ],
   "source": [
    "from typing import List\n",
    "\n",
    "class Solution:\n",
    "    def removeDuplicates(self, nums: List[int]) -> int:\n",
    "        # Create a temporary list to store unique elements\n",
    "        l = []\n",
    "        \n",
    "        # Add unique elements from nums to l while maintaining order\n",
    "        for num in nums:\n",
    "            if num not in l:\n",
    "                l.append(num)\n",
    "        \n",
    "        # Update nums in-place with the elements of l\n",
    "        nums[:len(l)] = l\n",
    "        \n",
    "        # Fill the rest of nums with underscores (optional for clarity)\n",
    "        nums[len(l):] = ['_'] * (len(nums) - len(l))\n",
    "        \n",
    "        # Return the count of unique elements\n",
    "        return len(l)\n",
    "\n",
    "# Example usage\n",
    "sol = Solution()\n",
    "lis = [0, 0, 1, 1, 1, 2, 2, 3, 3, 4]\n",
    "k = sol.removeDuplicates(lis)\n",
    "print(k, lis)  # Output: 5, [0, 1, 2, 3, 4, _, _, _, _, _]\n"
   ]
  },
  {
   "cell_type": "markdown",
   "metadata": {},
   "source": [
    "2559. Count Vowel Strings in Ranges"
   ]
  },
  {
   "cell_type": "code",
   "execution_count": 4,
   "metadata": {},
   "outputs": [
    {
     "name": "stdout",
     "output_type": "stream",
     "text": [
      "[2, 3, 0]\n"
     ]
    }
   ],
   "source": [
    "from typing import List\n",
    "\n",
    "class Solution:\n",
    "    def vowelStrings(self, words: List[str], queries: List[List[int]]) -> List[int]:\n",
    "        vowels = set(\"aeiou\")  # Set of vowels for quick lookup\n",
    "        finalList = []\n",
    "\n",
    "        for query in queries:\n",
    "            i, j = query\n",
    "            count = 0\n",
    "            for index in range(i, j + 1):  # Use `j + 1` to include the last index\n",
    "                if words[index][0] in vowels and words[index][-1] in vowels:  # Check start and end characters\n",
    "                    count += 1\n",
    "            finalList.append(count)\n",
    "\n",
    "        return finalList\n",
    "\n",
    "# Example usage\n",
    "sol = Solution()\n",
    "words = [\"aba\", \"bcb\", \"ece\", \"aa\", \"e\"]\n",
    "queries = [[0, 2], [1, 4], [1, 1]]\n",
    "print(sol.vowelStrings(words, queries))  # Output: [2, 3, 0]\n"
   ]
  }
 ],
 "metadata": {
  "kernelspec": {
   "display_name": "base",
   "language": "python",
   "name": "python3"
  },
  "language_info": {
   "codemirror_mode": {
    "name": "ipython",
    "version": 3
   },
   "file_extension": ".py",
   "mimetype": "text/x-python",
   "name": "python",
   "nbconvert_exporter": "python",
   "pygments_lexer": "ipython3",
   "version": "3.12.4"
  }
 },
 "nbformat": 4,
 "nbformat_minor": 2
}
