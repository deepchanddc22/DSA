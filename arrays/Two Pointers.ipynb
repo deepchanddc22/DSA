{
 "cells": [
  {
   "cell_type": "markdown",
   "metadata": {},
   "source": [
    "125. Valid Palindrome125. Valid Palindrome"
   ]
  },
  {
   "cell_type": "code",
   "execution_count": 1,
   "metadata": {},
   "outputs": [
    {
     "name": "stdout",
     "output_type": "stream",
     "text": [
      "True\n",
      "False\n",
      "True\n"
     ]
    }
   ],
   "source": [
    "class Solution:\n",
    "    def isPalindrome(self, s: str) -> bool:\n",
    "        # Initialize two pointers\n",
    "        left, right = 0, len(s) - 1\n",
    "        \n",
    "        while left < right:\n",
    "            # Move left pointer to the next alphanumeric character\n",
    "            while left < right and not s[left].isalnum():\n",
    "                left += 1\n",
    "            # Move right pointer to the previous alphanumeric character\n",
    "            while left < right and not s[right].isalnum():\n",
    "                right -= 1\n",
    "            \n",
    "            # Compare the characters at left and right\n",
    "            if s[left].lower() != s[right].lower():\n",
    "                return False\n",
    "            \n",
    "            # Move both pointers towards the center\n",
    "            left += 1\n",
    "            right -= 1\n",
    "        \n",
    "        # If we successfully traversed the string, it's a palindrome\n",
    "        return True\n",
    "\n",
    "# Example usage\n",
    "sol = Solution()\n",
    "print(sol.isPalindrome(\"A man, a plan, a canal: Panama\"))  # Output: true\n",
    "print(sol.isPalindrome(\"race a car\"))  # Output: false\n",
    "print(sol.isPalindrome(\" \"))  # Output: true\n"
   ]
  },
  {
   "cell_type": "markdown",
   "metadata": {},
   "source": [
    "392. Is Subsequence"
   ]
  },
  {
   "cell_type": "code",
   "execution_count": 37,
   "metadata": {},
   "outputs": [
    {
     "name": "stdout",
     "output_type": "stream",
     "text": [
      "True\n"
     ]
    }
   ],
   "source": [
    "class Solution:\n",
    "    def isSubsequence(self, s: str, t: str) -> bool:\n",
    "        index = 0\n",
    "        s_list = list(s)  # Convert s into a list of characters\n",
    "        \n",
    "        if s_list:\n",
    "            for char in t:\n",
    "                # Compare char directly with s_list[index]\n",
    "                if char == s_list[index]:\n",
    "                    index += 1  # Move to the next character in s_list\n",
    "                    \n",
    "                # If we have already found all characters of s in t\n",
    "                if index == len(s_list):\n",
    "                    return True\n",
    "        else:\n",
    "            return True\n",
    "        \n",
    "        # If we have not matched all characters of s\n",
    "        return index == len(s_list)\n",
    "\n",
    "s = \"\"\n",
    "t =\"ahbgdc\"\n",
    "sol = Solution()\n",
    "print(sol.isSubsequence(s,t))  # Output should be True\n"
   ]
  },
  {
   "cell_type": "markdown",
   "metadata": {},
   "source": [
    "167. Two Sum II - Input Array Is Sorted"
   ]
  },
  {
   "cell_type": "code",
   "execution_count": 16,
   "metadata": {},
   "outputs": [
    {
     "name": "stdout",
     "output_type": "stream",
     "text": [
      "[1, 2]\n"
     ]
    }
   ],
   "source": [
    "from typing import List\n",
    "class Solution:\n",
    "    def twoSum(self, numbers: List[int], target: int) -> List[int]:\n",
    "        left = 0\n",
    "        right = len(numbers)-1\n",
    "        while left<right:\n",
    "                if numbers[left] + numbers[right] == target:\n",
    "                    return [left + 1, right + 1]\n",
    "                elif numbers[left] + numbers[right] < target:\n",
    "                    left += 1\n",
    "                else:\n",
    "                    right -=1\n",
    "            \n",
    "        return []\n",
    "        \n",
    "sol = Solution()\n",
    "print(sol.twoSum(numbers=[2,7,11,15],target=9))"
   ]
  },
  {
   "cell_type": "markdown",
   "metadata": {},
   "source": []
  },
  {
   "cell_type": "code",
   "execution_count": 21,
   "metadata": {},
   "outputs": [
    {
     "name": "stdout",
     "output_type": "stream",
     "text": [
      "[-4, -1, -1, 0, 1, 2]\n"
     ]
    }
   ],
   "source": [
    "nums = [-1, 0, 1, 2, -1, -4]\n",
    "nums.sort()  # Sort in place\n",
    "print(nums)  # Print the sorted list\n"
   ]
  },
  {
   "cell_type": "code",
   "execution_count": 37,
   "metadata": {},
   "outputs": [
    {
     "name": "stdout",
     "output_type": "stream",
     "text": [
      "[[-1, 0, 1], [-1, -1, 2]]\n"
     ]
    }
   ],
   "source": [
    "from typing import List\n",
    "\n",
    "class Solution:\n",
    "    def threeSum(self, nums: List[int]) -> List[List[int]]:\n",
    "        nums.sort()  # Sort the array\n",
    "        n = len(nums)\n",
    "        end_set = set()\n",
    "        \n",
    "        for i in range(n):\n",
    "            p1, p2 = i + 1, n - 1  # Two-pointer approach for the remaining two numbers\n",
    "            while p1 < p2:\n",
    "                current_sum = nums[i] + nums[p1] + nums[p2]\n",
    "                if current_sum == 0:\n",
    "                    end_set.add((nums[i], nums[p1], nums[p2]))\n",
    "                    p1 += 1\n",
    "                    p2 -= 1\n",
    "                elif current_sum < 0:\n",
    "                    p1 += 1\n",
    "                else:\n",
    "                    p2 -= 1\n",
    "\n",
    "        return [list(triplet) for triplet in end_set]\n",
    "\n",
    "# Example usage\n",
    "sol = Solution()\n",
    "print(sol.threeSum(nums=[-1, 0, 1, 2, -1, -4]))\n"
   ]
  },
  {
   "cell_type": "code",
   "execution_count": null,
   "metadata": {},
   "outputs": [],
   "source": []
  }
 ],
 "metadata": {
  "kernelspec": {
   "display_name": "base",
   "language": "python",
   "name": "python3"
  },
  "language_info": {
   "codemirror_mode": {
    "name": "ipython",
    "version": 3
   },
   "file_extension": ".py",
   "mimetype": "text/x-python",
   "name": "python",
   "nbconvert_exporter": "python",
   "pygments_lexer": "ipython3",
   "version": "3.12.4"
  }
 },
 "nbformat": 4,
 "nbformat_minor": 2
}
