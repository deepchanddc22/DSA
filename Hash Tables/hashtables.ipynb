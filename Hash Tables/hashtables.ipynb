{
 "cells": [
  {
   "cell_type": "code",
   "execution_count": null,
   "metadata": {},
   "outputs": [],
   "source": [
    "Given an array of strings strs, group the \n",
    "anagrams together. You can return the answer in any order."
   ]
  },
  {
   "cell_type": "code",
   "execution_count": null,
   "metadata": {},
   "outputs": [],
   "source": [
    "from collections import defaultdict\n",
    "\n",
    "class Solution:\n",
    "    def groupAnagrams(self, strs):\n",
    "        # Create a defaultdict to store groups of anagrams\n",
    "        anagram_map = defaultdict(list)\n",
    "        \n",
    "        # Loop through each word in the input list\n",
    "        for word in strs:\n",
    "            # Step 1: Sort the word and create a key\n",
    "            sorted_word = ''.join(sorted(word))\n",
    "            \n",
    "            # Step 2: Append the word to the group identified by the sorted key\n",
    "            anagram_map[sorted_word].append(word)\n",
    "            \n",
    "            # Step 3: Print the intermediate state of the anagram_map\n",
    "            print(f\"After processing '{word}': {dict(anagram_map)}\")\n",
    "        \n",
    "        # Step 4: Convert the dictionary values to a list and return\n",
    "        return list(anagram_map.values())\n",
    "\n",
    "# Example usage\n",
    "input_list = [\"eat\", \"tea\", \"tan\", \"ate\", \"nat\", \"bat\"]\n",
    "sol = Solution()\n",
    "result = sol.groupAnagrams(input_list)\n",
    "print(\"\\nFinal result:\", result)"
   ]
  },
  {
   "cell_type": "markdown",
   "metadata": {},
   "source": [
    "Given an integer array nums, return true if any value appears at least twice in the array, and return false if every element is distinct."
   ]
  },
  {
   "cell_type": "code",
   "execution_count": 17,
   "metadata": {},
   "outputs": [
    {
     "name": "stdout",
     "output_type": "stream",
     "text": [
      "{1: 3, 3: 3, 4: 2, 2: 2}\n",
      "True\n"
     ]
    }
   ],
   "source": [
    "#Solution 1\n",
    "\n",
    "from typing import List\n",
    "class Solution:\n",
    "    def containsDuplicate(self, nums: List[int]) -> bool:\n",
    "        \n",
    "        dic = {x:nums.count(x) for x in nums}\n",
    "        print(dic)\n",
    "\n",
    "\n",
    "        max_count = max(dic.values())\n",
    "        if max_count > 1:\n",
    "                return True\n",
    "        return False\n",
    "            \n",
    "\n",
    "sol = Solution()\n",
    "lis = [1,1,1,3,3,4,3,2,4,2]\n",
    "print(sol.containsDuplicate(lis))\n"
   ]
  },
  {
   "cell_type": "code",
   "execution_count": 16,
   "metadata": {},
   "outputs": [
    {
     "name": "stdout",
     "output_type": "stream",
     "text": [
      "False\n"
     ]
    }
   ],
   "source": [
    "#Solution 2\n",
    "from typing import List\n",
    "class Solution:\n",
    "    def containsDuplicate(self, nums: List[int]) -> bool:\n",
    "        seen = set()\n",
    "        \n",
    "        for num in nums:\n",
    "            if num in seen:\n",
    "                    return True\n",
    "            else:\n",
    "                seen.add(num)\n",
    "        return False\n",
    " \n",
    "        \n",
    "\n",
    "sol = Solution()\n",
    "lis = [2,14,18,22]\n",
    "print(sol.containsDuplicate(lis))"
   ]
  },
  {
   "cell_type": "markdown",
   "metadata": {},
   "source": [
    "Given an array nums of size n, return the majority element.\n",
    "\n",
    "The majority element is the element that appears more than ⌊n / 2⌋ times. You may assume that the majority element always exists in the array.\n",
    "\n"
   ]
  },
  {
   "cell_type": "code",
   "execution_count": 41,
   "metadata": {},
   "outputs": [
    {
     "name": "stdout",
     "output_type": "stream",
     "text": [
      "{2: 4, 1: 3}\n",
      "2\n"
     ]
    }
   ],
   "source": [
    "#Solution 1\n",
    "class Solution:\n",
    "    def majorityElement(self, nums: List[int]) -> int:\n",
    "        dic = {x:nums.count(x)for x in nums}\n",
    "        print(dic)\n",
    "        arr_size = len(nums)/2\n",
    "        for key, value in dic.items():\n",
    "            if value > arr_size:\n",
    "                return key\n",
    "        \n",
    "        \n",
    "sol = Solution()\n",
    "lis = [2,2,1,1,1,2,2]\n",
    "print(sol.majorityElement(lis))\n",
    "        \n",
    "        \n",
    "#O(n3)\n",
    "#count here making the code slower for larger inputs"
   ]
  },
  {
   "cell_type": "code",
   "execution_count": 44,
   "metadata": {},
   "outputs": [
    {
     "name": "stdout",
     "output_type": "stream",
     "text": [
      "2\n"
     ]
    }
   ],
   "source": [
    "#Solution 2\n",
    "from typing import defaultdict\n",
    "class Solution:\n",
    "    def majorityElement(self, nums: List[int]) -> int:\n",
    "        dic = defaultdict(int)\n",
    "        \n",
    "        for num in nums:\n",
    "            dic[num] += 1\n",
    "            \n",
    "            \n",
    "        arr_size = len(nums)/2\n",
    "        for key, value in dic.items():\n",
    "            if value > arr_size:\n",
    "                return key\n",
    "        \n",
    "        \n",
    "sol = Solution()\n",
    "lis = [2,2,1,1,1,2,2]\n",
    "print(sol.majorityElement(lis))\n",
    "        \n",
    "#O(n)\n"
   ]
  },
  {
   "cell_type": "markdown",
   "metadata": {},
   "source": [
    "49. Group Anagrams"
   ]
  },
  {
   "cell_type": "code",
   "execution_count": null,
   "metadata": {},
   "outputs": [],
   "source": [
    "class Solution:\n",
    "    def groupAnagrams(self, strs):\n",
    "        anagram_map = defaultdict(list)\n",
    "        \n",
    "        for word in strs:\n",
    "            sorted_word = ''.join(sorted(word))\n",
    "            anagram_map[sorted_word].append(word)\n",
    "        \n",
    "        return list(anagram_map.values())\n",
    "\n"
   ]
  }
 ],
 "metadata": {
  "kernelspec": {
   "display_name": "base",
   "language": "python",
   "name": "python3"
  },
  "language_info": {
   "codemirror_mode": {
    "name": "ipython",
    "version": 3
   },
   "file_extension": ".py",
   "mimetype": "text/x-python",
   "name": "python",
   "nbconvert_exporter": "python",
   "pygments_lexer": "ipython3",
   "version": "3.12.4"
  }
 },
 "nbformat": 4,
 "nbformat_minor": 2
}
